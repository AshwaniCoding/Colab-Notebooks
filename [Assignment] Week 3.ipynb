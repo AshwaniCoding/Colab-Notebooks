{
  "cells": [
    {
      "cell_type": "markdown",
      "metadata": {
        "id": "view-in-github",
        "colab_type": "text"
      },
      "source": [
        "<a href=\"https://colab.research.google.com/github/AshwaniCoding/Colab-Notebooks/blob/main/%5BAssignment%5D_Week_2.ipynb\" target=\"_parent\"><img src=\"https://colab.research.google.com/assets/colab-badge.svg\" alt=\"Open In Colab\"/></a>"
      ]
    },
    {
      "cell_type": "markdown",
      "source": [
        "# **Week 2 Assignment: Automating Customer Feedback Analysis**\n",
        "\n",
        "---\n",
        "\n",
        "### **Objective**\n",
        "\n",
        "The goal of this assignment is to use advanced prompting techniques and your understanding of LLM fundamentals to analyze and extract structured information from raw customer feedback. This project will test your skills in tokenization and prompt engineering (few-shot, structured output, and chain-of-thought).\n",
        "\n",
        "### **Background & Problem Statement**\n",
        "\n",
        "You are an AI Engineer at a growing e-commerce company. The customer support team is manually reading through hundreds of product reviews every day to identify key issues and sentiment. This process is slow and inconsistent.\n",
        "\n",
        "Your manager has asked you to build a prototype that uses a Large Language Model to automate this analysis. Specifically, you need to prove that you can:\n",
        "1.  Classify the sentiment of a review.\n",
        "2.  Extract specific, structured information (like product names and issues).\n",
        "\n",
        "### **Dataset**\n",
        "\n",
        "For this assignment, you will work with a small, curated list of customer reviews. This allows you to focus on the quality of your prompts rather than on data cleaning. Use the following Python list as your dataset:\n",
        "\n",
        "```python\n",
        "reviews = [\n",
        "    # Review 1: Positive\n",
        "    \"I absolutely love the new QuantumX Pro camera! The picture quality is stellar and the battery life is amazing. Shipped super fast too. A++!\",\n",
        "\n",
        "    # Review 2: Negative with specific issue\n",
        "    \"The SonicWave earbuds have a serious design flaw. The left earbud stopped charging after just one week. I expected better for the price. Very disappointed.\",\n",
        "\n",
        "    # Review 3: Mixed with a question\n",
        "    \"The Titan smartwatch is decent. The screen is bright and the features are good, but the step counter seems inaccurate. It's off by at least 20%. Is there a way to calibrate it?\",\n",
        "\n",
        "    # Review 4: Negative with multiple issues\n",
        "    \"My order for the AeroDrone was a disaster. It arrived with a broken propeller and the battery was completely dead on arrival. Customer service has been unresponsive for 3 days.\",\n",
        "\n",
        "    # Review 5: Positive but mentions a minor issue\n",
        "    \"Overall, I'm happy with the PureGlow Air Purifier. It's quiet and effective. My only complaint is that the replacement filters are a bit expensive.\"\n",
        "]\n",
        "```\n",
        "\n",
        "---\n",
        "\n",
        "### **Tasks & Instructions**\n",
        "\n",
        "Structure your code in a Jupyter Notebook or Python script. Use markdown cells or comments to explain your process and show the outputs for each task.\n",
        "\n",
        "**Part 1: Understanding Tokenization**\n",
        "*   **Objective:** To see firsthand how different models \"read\" the same text.\n",
        "*   **Tasks:**\n",
        "    1.  Import `AutoTokenizer` from the `transformers` library.\n",
        "    2.  Load the tokenizer for `\"gpt2\"` and the tokenizer for `\"bert-base-uncased\"`.\n",
        "    3.  Take the third review (`reviews[2]`) about the Titan smartwatch.\n",
        "    4.  Tokenize this review using **both** tokenizers and print the resulting list of tokens for each.\n",
        "    5.  In a markdown cell, answer the following:\n",
        "        *   Are the token lists identical?\n",
        "        *   Point out one or two specific differences you notice.\n",
        "        *   In one sentence, explain *why* different models might have different tokenizers.\n",
        "\n",
        "**Part 2: Advanced Prompt Engineering**\n",
        "*   **Objective:** To use different prompting techniques to perform three distinct analysis tasks.\n",
        "*   **Setup:** Load a basic instruction-following or text-generation LLM (e.g., `google/flan-t5-large` or `gpt2-large`) using the Hugging Face `pipeline`.\n",
        "*   **Tasks (perform for each review in the `reviews` list):**\n",
        "    1.  **Task A: Sentiment Classification (Few-Shot Prompting)**\n",
        "        *   Design a **few-shot prompt** that provides two examples of reviews classified as \"Positive\", \"Negative\", or \"Mixed\".\n",
        "        *   Use this prompt to classify each of the five reviews in the dataset. Print the classification for each review.\n",
        "    2.  **Task B: Structured Data Extraction (Instruction & Format Prompting)**\n",
        "        *   Design a prompt that instructs the model to extract the following information from each review and format the output as a JSON object: `{\"product_name\": \"...\", \"issue_summary\": \"...\", \"sentiment\": \"...\"}`.\n",
        "        *   If a piece of information isn't present, the model should output \"N/A\".\n",
        "        *   Run this prompt on all five reviews and print the resulting JSON for each.\n",
        "    3.  **Task C: Root Cause Analysis (Chain-of-Thought Prompting)**\n",
        "        *   For the **negative and mixed reviews only** (reviews 2, 3, 4, 5), design a **Chain-of-Thought prompt**.\n",
        "        *   The prompt should ask the model to first identify the customer's core problem and then explain its reasoning step-by-step.\n",
        "        *   Example Prompt Structure: `Analyze the following customer review to identify the root cause of their issue. First, state the main problem. Second, explain your reasoning in a single sentence. Let's think step by step.`\n",
        "        *   Print the model's full step-by-step analysis for these reviews.\n",
        "\n",
        "---\n",
        "\n",
        "### **Submission Instructions**\n",
        "\n",
        "1.  **Deadline:** You have **one week** from the assignment release date to submit your work.\n",
        "2.  **Platform:** All submissions must be made to your allocated private GitLab repository. You **must** submit your work in a branch named `week_2`.\n",
        "3.  **Format:** You can submit your work as either a Jupyter Notebook (`.ipynb`) or a Python script (`.py`).\n",
        "4.  After pushing, you should verify that your branch and files are visible on the GitLab web interface. No further action is needed. The trainers will review all submissions on the `week_2` branch after the deadline. Any assignments submitted after the deadline won't be reviewed and will reflect in your course score.\n",
        "5. The use of LLMs is encouraged, but ensure that you’re not copying solutions blindly. Always review, test, and understand any code generated, adapting it to the specific requirements of your assignment. Your submission should demonstrate your own comprehension, problem-solving process, and coding style, not just an unedited output from an AI tool."
      ],
      "metadata": {
        "id": "00UYFthgw45e"
      }
    },
    {
      "cell_type": "markdown",
      "source": [
        "# Part 1: Understanding Tokenization"
      ],
      "metadata": {
        "id": "5aIUfnGIxJyx"
      }
    },
    {
      "cell_type": "markdown",
      "source": [
        "### Load the reviews"
      ],
      "metadata": {
        "id": "x2-VbeHQxPqB"
      }
    },
    {
      "cell_type": "code",
      "source": [
        "reviews = [\n",
        "    \"I absolutely love the new QuantumX Pro camera! The picture quality is stellar and the battery life is amazing. Shipped super fast too. A++!\",\n",
        "    \"The SonicWave earbuds have a serious design flaw. The left earbud stopped charging after just one week. I expected better for the price. Very disappointed.\",\n",
        "    \"The Titan smartwatch is decent. The screen is bright and the features are good, but the step counter seems inaccurate. It's off by at least 20%. Is there a way to calibrate it?\",\n",
        "    \"My order for the AeroDrone was a disaster. It arrived with a broken propeller and the battery was completely dead on arrival. Customer service has been unresponsive for 3 days.\",\n",
        "    \"Overall, I'm happy with the PureGlow Air Purifier. It's quiet and effective. My only complaint is that the replacement filters are a bit expensive.\"\n",
        "]"
      ],
      "metadata": {
        "id": "-2LA7rvAxGep"
      },
      "execution_count": 10,
      "outputs": []
    },
    {
      "cell_type": "markdown",
      "source": [
        "### Import Autotokenizer"
      ],
      "metadata": {
        "id": "9nKUPBI1xeq7"
      }
    },
    {
      "cell_type": "code",
      "source": [
        "from transformers import AutoTokenizer\n",
        "\n",
        "gpt2_tokenizer = AutoTokenizer.from_pretrained(\"gpt2\")\n",
        "bert_tokenizer = AutoTokenizer.from_pretrained(\"bert-base-uncased\")\n",
        "\n",
        "review_text = reviews[2]\n",
        "\n",
        "gpt2_tokens = gpt2_tokenizer.tokenize(review_text)\n",
        "bert_tokens = bert_tokenizer.tokenize(review_text)\n",
        "\n",
        "print(\"Review Text:\", review_text)\n",
        "print(\"GPT-2 Tokens:\", gpt2_tokens)\n",
        "print(\"BERT Tokens:\", bert_tokens)"
      ],
      "metadata": {
        "id": "gSx2oUagxgYl",
        "colab": {
          "base_uri": "https://localhost:8080/"
        },
        "outputId": "5f2bdeaa-95cb-491a-ba08-7e86ade8ebd4"
      },
      "execution_count": 11,
      "outputs": [
        {
          "output_type": "stream",
          "name": "stdout",
          "text": [
            "Review Text: The Titan smartwatch is decent. The screen is bright and the features are good, but the step counter seems inaccurate. It's off by at least 20%. Is there a way to calibrate it?\n",
            "GPT-2 Tokens: ['The', 'ĠTitan', 'Ġsmart', 'watch', 'Ġis', 'Ġdecent', '.', 'ĠThe', 'Ġscreen', 'Ġis', 'Ġbright', 'Ġand', 'Ġthe', 'Ġfeatures', 'Ġare', 'Ġgood', ',', 'Ġbut', 'Ġthe', 'Ġstep', 'Ġcounter', 'Ġseems', 'Ġinaccurate', '.', 'ĠIt', \"'s\", 'Ġoff', 'Ġby', 'Ġat', 'Ġleast', 'Ġ20', '%.', 'ĠIs', 'Ġthere', 'Ġa', 'Ġway', 'Ġto', 'Ġcalibr', 'ate', 'Ġit', '?']\n",
            "BERT Tokens: ['the', 'titan', 'smart', '##watch', 'is', 'decent', '.', 'the', 'screen', 'is', 'bright', 'and', 'the', 'features', 'are', 'good', ',', 'but', 'the', 'step', 'counter', 'seems', 'inaccurate', '.', 'it', \"'\", 's', 'off', 'by', 'at', 'least', '20', '%', '.', 'is', 'there', 'a', 'way', 'to', 'cal', '##ib', '##rate', 'it', '?']\n"
          ]
        }
      ]
    },
    {
      "cell_type": "markdown",
      "source": [
        "#"
      ],
      "metadata": {
        "id": "d_xout-cybc3"
      }
    },
    {
      "cell_type": "markdown",
      "source": [
        "- **Are the token lists identical?**  \n",
        "No, the GPT-2 and BERT token lists are not identical.\n",
        "\n",
        "- **Differences noticed:**  \n",
        "  - GPT-2 uses the special character `Ġ` to mark spaces before words (e.g., `ĠTitan`, `Ġsmart`), while BERT does not.  \n",
        "  - BERT uses subword tokens with prefixes like `##` (e.g., `##watch`, `##ib`, `##rate`), while GPT-2 keeps most words whole or splits differently.\n",
        "\n",
        "- **Reason for difference:**  \n",
        "Different models use different tokenization strategies — GPT-2 uses **byte pair encoding (BPE)**, while BERT uses **WordPiece** — leading to variations in how text is split into tokens.\n"
      ],
      "metadata": {
        "id": "f8o4dxzHec4p"
      }
    },
    {
      "cell_type": "markdown",
      "source": [
        "# Part 2: Advanced Prompt Engineering"
      ],
      "metadata": {
        "id": "FcYTYSYEye3n"
      }
    },
    {
      "cell_type": "markdown",
      "source": [
        "### Setup and load model"
      ],
      "metadata": {
        "id": "apS8Ij-Y-aaE"
      }
    },
    {
      "cell_type": "code",
      "source": [
        "from transformers import pipeline\n",
        "\n",
        "generator = pipeline(\"text2text-generation\", model=\"google/flan-t5-large\")\n"
      ],
      "metadata": {
        "id": "dRv85oyl-eIe",
        "colab": {
          "base_uri": "https://localhost:8080/"
        },
        "outputId": "02635a5e-b19c-4719-fece-8f34cf721d5f"
      },
      "execution_count": 12,
      "outputs": [
        {
          "output_type": "stream",
          "name": "stderr",
          "text": [
            "Device set to use cpu\n"
          ]
        }
      ]
    },
    {
      "cell_type": "markdown",
      "source": [
        "### Task A: Sentiment Classification (Few-Shot Prompting)"
      ],
      "metadata": {
        "id": "_f4BkTE__BMI"
      }
    },
    {
      "cell_type": "code",
      "source": [
        "few_shot = \"\"\"\n",
        "Read the customer review and label its sentiment as one of: Positive, Negative, or Mixed.\n",
        "\n",
        "Examples:\n",
        "\n",
        "Review: \"I absolutely love the new QuantumX Pro camera! The picture quality is stellar and the battery life is amazing. Shipped super fast too. A++!\"\n",
        "Label: Positive\n",
        "\n",
        "Review: \"The SonicWave earbuds have a serious design flaw. The left earbud stopped charging after just one week. I expected better for the price. Very disappointed.\"\n",
        "Label: Negative\n",
        "\n",
        "Now, label the sentiment of this review:\n",
        "\"{review}\"\n",
        "Label:\n",
        "\"\"\"\n",
        "\n",
        "print(\"=== Task A: Sentiment ===\")\n",
        "for r in reviews:\n",
        "    output = generator(few_shot.format(review=r))\n",
        "    print(f\"Review: {r}\\nPrediction: {output[0]['generated_text'].strip()}\\n\")\n"
      ],
      "metadata": {
        "id": "iFHiEHdh_Kxx",
        "colab": {
          "base_uri": "https://localhost:8080/"
        },
        "outputId": "75318375-3c84-4a35-c8a3-b9b19ed4bb95"
      },
      "execution_count": 13,
      "outputs": [
        {
          "output_type": "stream",
          "name": "stdout",
          "text": [
            "=== Task A: Sentiment ===\n",
            "Review: I absolutely love the new QuantumX Pro camera! The picture quality is stellar and the battery life is amazing. Shipped super fast too. A++!\n",
            "Prediction: Positive\n",
            "\n",
            "Review: The SonicWave earbuds have a serious design flaw. The left earbud stopped charging after just one week. I expected better for the price. Very disappointed.\n",
            "Prediction: Negative\n",
            "\n",
            "Review: The Titan smartwatch is decent. The screen is bright and the features are good, but the step counter seems inaccurate. It's off by at least 20%. Is there a way to calibrate it?\n",
            "Prediction: Negative\n",
            "\n",
            "Review: My order for the AeroDrone was a disaster. It arrived with a broken propeller and the battery was completely dead on arrival. Customer service has been unresponsive for 3 days.\n",
            "Prediction: Negative\n",
            "\n",
            "Review: Overall, I'm happy with the PureGlow Air Purifier. It's quiet and effective. My only complaint is that the replacement filters are a bit expensive.\n",
            "Prediction: Positive\n",
            "\n"
          ]
        }
      ]
    },
    {
      "cell_type": "markdown",
      "source": [
        "### Task B: Structured Data Extraction (Instruction & Format Prompting)"
      ],
      "metadata": {
        "id": "leYnrj-UBemG"
      }
    },
    {
      "cell_type": "code",
      "source": [
        "structured_prompt = \"\"\"\n",
        "You are a Feedback Analyst. Extract structured information from the review below and return exact JSON with these keys: \"product_name\", \"issue_summary\", \"sentiment\".\n",
        "\n",
        "Rules:\n",
        "- \"product_name\": the product mentioned, or \"N/A\" if not mentioned.\n",
        "- \"issue_summary\": list all complaints or problems, or \"N/A\" if none.\n",
        "- \"sentiment\": Positive, Negative, or Mixed. If minor negative points exist in a mostly positive review, use Mixed. Always include this field.\n",
        "\n",
        "Examples:\n",
        "\n",
        "Review: \"I absolutely love the new QuantumX Pro camera! The picture quality is stellar and the battery life is amazing. Shipped super fast too. A++!\"\n",
        "Output: {{\"product_name\": \"QuantumX Pro camera\", \"issue_summary\": \"N/A\", \"sentiment\": \"Positive\"}}\n",
        "\n",
        "Review: \"The SonicWave earbuds have a serious design flaw. The left earbud stopped charging after just one week. I expected better for the price. Very disappointed.\"\n",
        "Output: {{\"product_name\": \"SonicWave earbuds\", \"issue_summary\": \"left earbud stopped charging, design flaw\", \"sentiment\": \"Negative\"}}\n",
        "\n",
        "Now, extract structured data from this review:\n",
        "{review_text}\n",
        "Output:\n",
        "\"\"\"\n",
        "\n",
        "print(\"\\n=== Task B: Structured Extraction ===\")\n",
        "for r in reviews:\n",
        "  output = generator(structured_prompt.format(review_text=r))\n",
        "  print(f\"Review: {r}\\nJSON: {output[0]['generated_text'].strip()}\\n\")\n"
      ],
      "metadata": {
        "id": "kAzOYuAVBgjE",
        "colab": {
          "base_uri": "https://localhost:8080/"
        },
        "outputId": "531eabfc-2ad1-462b-c58d-6321258dd33b"
      },
      "execution_count": 18,
      "outputs": [
        {
          "output_type": "stream",
          "name": "stdout",
          "text": [
            "\n",
            "=== Task B: Structured Extraction ===\n",
            "Review: I absolutely love the new QuantumX Pro camera! The picture quality is stellar and the battery life is amazing. Shipped super fast too. A++!\n",
            "JSON: \"product_name\": \"QuantumX Pro camera\", \"issue_summary\": \"N/A\", \"sentiment\": \"Positive\"\n",
            "\n",
            "Review: The SonicWave earbuds have a serious design flaw. The left earbud stopped charging after just one week. I expected better for the price. Very disappointed.\n",
            "JSON: \"product_name\": \"SonicWave earbuds\", \"issue_summary\": \"left earbud stopped charging, design flaw\", \"sentiment\": \"Negative\"\n",
            "\n",
            "Review: The Titan smartwatch is decent. The screen is bright and the features are good, but the step counter seems inaccurate. It's off by at least 20%. Is there a way to calibrate it?\n",
            "JSON: \"product_name\": \"Titan smartwatch\" \"issue_summary\": \"The screen is bright and the features are good, but the step counter seems inaccurate. It's off by at least 20%. Is there a way to calibrate it?\"\n",
            "\n",
            "Review: My order for the AeroDrone was a disaster. It arrived with a broken propeller and the battery was completely dead on arrival. Customer service has been unresponsive for 3 days.\n",
            "JSON: \"product_name\": \"AeroDrone\", \"issue_summary\": \"\",\"issue_summary\": \"\",\"sentiment\": \"Negative\",\"product_name\": \"AeroDrone\"\n",
            "\n",
            "Review: Overall, I'm happy with the PureGlow Air Purifier. It's quiet and effective. My only complaint is that the replacement filters are a bit expensive.\n",
            "JSON: \"product_name\": PureGlow Air Purifier; \"issue_summary\": \"N/A\"; \"sentiment\": Positive; \"product_name\": PureGlow Air Purifier; \"issue_summary\": \"N/A\"; \"sentiment\": Mixed\n",
            "\n"
          ]
        }
      ]
    },
    {
      "cell_type": "markdown",
      "source": [
        "### Task C: Root Cause Analysis (Chain-of-Thought Prompting)"
      ],
      "metadata": {
        "id": "-qGx94NOglo1"
      }
    },
    {
      "cell_type": "code",
      "source": [
        "cot_prompt = \"\"\"\n",
        "Analyze the customer review below to find the root cause of the issue.\n",
        "\n",
        "1. State the main problem.\n",
        "2. Explain your reasoning in one clear sentence.\n",
        "\n",
        "Review: {text}\n",
        "Answer step by step:\n",
        "\"\"\"\n",
        "\n",
        "print(\"---- Task C: Root Cause Analysis ----\")\n",
        "for r in reviews[1:]:\n",
        "    prompt = cot_prompt.format(text=r)\n",
        "    output = generator(prompt, max_new_tokens=200)\n",
        "    print(f\"Review: {r}\\nAnalysis: {output[0]['generated_text'].strip()}\\n\")\n"
      ],
      "metadata": {
        "id": "T-YG1mBBgnjU",
        "colab": {
          "base_uri": "https://localhost:8080/"
        },
        "outputId": "95338a74-1250-42e4-d55f-bc90caa7292e"
      },
      "execution_count": 19,
      "outputs": [
        {
          "output_type": "stream",
          "name": "stdout",
          "text": [
            "---- Task C: Root Cause Analysis ----\n",
            "Review: The SonicWave earbuds have a serious design flaw. The left earbud stopped charging after just one week. I expected better for the price. Very disappointed.\n",
            "Analysis: The left earbud stopped charging after just one week. I expected better for the price. Very disappointed.\n",
            "\n",
            "Review: The Titan smartwatch is decent. The screen is bright and the features are good, but the step counter seems inaccurate. It's off by at least 20%. Is there a way to calibrate it?\n",
            "Analysis: 1. The screen is bright and the features are good, but the step counter seems inaccurate. It's off by at least 20%. Is there a way to calibrate it?\n",
            "\n",
            "Review: My order for the AeroDrone was a disaster. It arrived with a broken propeller and the battery was completely dead on arrival. Customer service has been unresponsive for 3 days.\n",
            "Analysis: The AeroDrone arrived with a broken propeller and the battery was completely dead on arrival. Customer service has been unresponsive for 3 days.\n",
            "\n",
            "Review: Overall, I'm happy with the PureGlow Air Purifier. It's quiet and effective. My only complaint is that the replacement filters are a bit expensive.\n",
            "Analysis: I'm happy with the PureGlow Air Purifier. It's quiet and effective. My only complaint is that the replacement filters are a bit expensive.\n",
            "\n"
          ]
        }
      ]
    }
  ],
  "metadata": {
    "colab": {
      "provenance": [],
      "include_colab_link": true
    },
    "kernelspec": {
      "display_name": "Python 3",
      "name": "python3"
    },
    "language_info": {
      "name": "python"
    }
  },
  "nbformat": 4,
  "nbformat_minor": 0
}
