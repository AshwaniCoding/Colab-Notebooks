{
  "nbformat": 4,
  "nbformat_minor": 0,
  "metadata": {
    "colab": {
      "provenance": []
    },
    "kernelspec": {
      "name": "python3",
      "display_name": "Python 3"
    },
    "language_info": {
      "name": "python"
    }
  },
  "cells": [
    {
      "cell_type": "markdown",
      "source": [
        "# **Week 3 Assignment: Building an Advanced RAG System**\n",
        "---\n",
        "\n",
        "### **Objective**\n",
        "\n",
        "The goal of this assignment is to build, evaluate, and iteratively improve a Retrieval-Augmented Generation (RAG) system using a state-of-the-art Large Language Model from Google's Gemini family. You will move beyond a basic pipeline to implement advanced techniques like reranking, with the final application answering complex questions from a real-world financial document.\n",
        "\n",
        "### **Problem Statement**\n",
        "\n",
        "You are an AI Engineer at a top financial services firm. Your team has been tasked with creating a tool to help financial analysts quickly extract key information from lengthy, complex annual reports (10-K filings). Manually searching these 100+ page documents for specific figures or risk assessments is slow and error-prone.\n",
        "\n",
        "Your task is to build a RAG-based Q&A system that allows an analyst to ask natural language questions about a company's 10-K report and receive accurate, grounded answers powered by Gemini.\n",
        "\n",
        "### **Dataset**\n",
        "\n",
        "You will be using the official 2022 10-K annual report for **Microsoft**. A 10-K report is a comprehensive summary of a company's financial performance.\n",
        "*   **Download Link:** [Microsoft Corp. 2022 10-K Report (PDF)](https://www.sec.gov/Archives/edgar/data/789019/000156459022026876/msft-10k_20220630.htm)\n",
        "    *   *Instructions: Go to the link, and save the webpage as a `.txt` file or copy-paste the relevant sections into a text file for easier processing.*\n",
        "\n",
        "---\n",
        "\n",
        "### **Tasks & Instructions**\n",
        "\n",
        "Structure your work in a Jupyter Notebook (`.ipynb`) or Python files. Use markdown cells or comments (in case of Python file-based submissions) to explain your methodology, justify your choices, and present your findings at each stage.\n",
        "\n",
        "**Part 1: Setup and API Configuration**\n",
        "*   **Objective:** To configure your environment to use the Google Gemini API (or an equivalent model).\n",
        "*   **Tasks:**\n",
        "    1.  **Get Your API Key:**\n",
        "        *   Go to [Google AI Studio](https://aistudio.google.com/).\n",
        "        *   Sign in with your Google account.\n",
        "        *   Click on **\"Get API key\"** and create a new API key. **Treat this key like a password and do not share it publicly.**\n",
        "    2.  **Environment Setup:**\n",
        "        *   In your development environment (for example, Google Colab notebook or VSCode on your local machine), install the necessary libraries: `pip install -q -U google-generativeai langchain-google-genai langchain chromadb sentence-transformers`.\n",
        "        *   If you're using Colab, use the \"Secrets\" feature (look for the key icon 🔑 on the left sidebar) to securely store your API key. Create a new secret named `GEMINI_API_KEY` and paste your key there.\n",
        "    3.  **Configure the LLM:** In your code, import the necessary libraries and configure your LLM. For example, if you're using Colab:\n",
        "        ```python\n",
        "        import google.generativeai as genai\n",
        "        from langchain_google_genai import ChatGoogleGenerativeAI\n",
        "        from google.colab import userdata\n",
        "\n",
        "        # Configure the API key\n",
        "        api_key = userdata.get('GEMINI_API_KEY')\n",
        "        genai.configure(api_key=api_key)\n",
        "\n",
        "        # Instantiate the Gemini model\n",
        "        llm = ChatGoogleGenerativeAI(model=\"gemini-2.5-flash\")\n",
        "        ```\n",
        "\n",
        "**Part 2: Building the Baseline RAG System**\n",
        "*   **Objective:** To construct a standard, vector-search-only RAG pipeline using Gemini (or an equivalent model) as the generator.\n",
        "*   **Tasks:**\n",
        "    1.  **Document Loading:** Load the Microsoft 10-K report into your application.\n",
        "    2.  **Chunking:** Split the document into chunks. **In a markdown cell (or in a comment, if using Python instead of Jupyter), explicitly state your chosen `chunk_size` and `chunk_overlap` and briefly explain why you chose those values.**\n",
        "    3.  **Vector Store:** Create embeddings for your chunks using an open-source model (e.g., `sentence-transformers/all-MiniLM-L6-v2`) and store them in a vector database (e.g., ChromaDB).\n",
        "    4.  **QA Chain:** Create a standard `RetrievalQA` chain using the `llm` object (Gemini 2.5 Flash or equivalent) you configured in Part 1.\n",
        "    5.  **Initial Test:** Test your baseline system with the following question: `\"What were the company's total revenues for the fiscal year that ended on June 30, 2022?\"`. Display the answer.\n",
        "\n",
        "**Part 3: Evaluating the Baseline**\n",
        "*   **Objective:** To quantitatively and qualitatively assess the performance of your LLM-powered system.\n",
        "*   **Tasks:**\n",
        "    1.  **Create a Test Set:** Create a small evaluation set of at least **five** questions. These questions should be a mix of:\n",
        "        *   **Specific Fact Retrieval:** (e.g., \"What is the name of the company's independent registered public accounting firm?\")\n",
        "        *   **Summarization:** (e.g., \"Summarize the key risks related to competition.\")\n",
        "        *   **Keyword-Dependent:** (e.g., \"What does the report say about 'Azure'?\")\n",
        "    2.  **Qualitative Evaluation:** Run your five questions through the baseline RAG system. For each question, display the generated answer and the source chunks that were retrieved.\n",
        "    3.  **Analysis:** In a markdown cell (or in a comment, if using Python instead of Jupyter), write a brief analysis. Did the system answer correctly? Were the retrieved chunks relevant? Did you notice any failures?\n",
        "\n",
        "**Part 4: Implementing an Advanced RAG Technique**\n",
        "*   **Objective:** To improve upon the baseline by implementing a reranker.\n",
        "*   **Tasks:**\n",
        "    1.  **Implement a Reranker:** Add a reranker (e.g., using `CohereRerank` or a Hugging Face cross-encoder model) into your pipeline. The flow should be: Retrieve top 10 docs -> Rerank to get the best 3 -> Pass only these 3 to LLM for the final answer.\n",
        "    2.  **Re-Evaluation:** Run your same five evaluation questions through your new, advanced RAG pipeline. Display the generated answer and the final source chunks for each.\n",
        "\n",
        "**Part 5: Final Analysis and Conclusion**\n",
        "*   **Objective:** To compare the baseline and advanced systems and articulate the value of the advanced technique.\n",
        "*   **Tasks:**\n",
        "    1.  **Comparison:** In a markdown cell (or in a comment, if using Python instead of Jupyter), create a simple table or a structured list comparing the answers from the **Baseline RAG** vs. the **Advanced RAG** for your five evaluation questions.\n",
        "    2.  **Conclusion:** Write a concluding paragraph answering the following:\n",
        "        *   Did adding the reranker improve the results? How?\n",
        "        *   Based on your experience, what is the biggest challenge in building a reliable RAG system for dense documents?\n",
        "\n",
        "**Bonus Section (Optional)**\n",
        "*   **Objective:** To demonstrate a deeper understanding by implementing more complex features.\n",
        "*   **Choose any of the following to implement:**\n",
        "    *   **Implement Query Rewriting:** Before the retrieval step, use Gemini itself to rewrite the user's query to be more effective for a financial document.\n",
        "    *   **Automated Evaluation with RAGAS:** Use the `ragas` library to automatically score the faithfulness and relevance of your baseline vs. your advanced system.\n",
        "    *   **Source Citing:** Modify your pipeline to not only return the answer but also explicitly cite the source chunk(s) it used.\n",
        "\n",
        "---\n",
        "\n",
        "### **Submission Instructions**\n",
        "\n",
        "1.  **Deadline:** You have **two weeks** from the assignment release date to submit your work.\n",
        "2.  **Platform:** All submissions must be made to your allocated private GitLab repository. You **must** submit your work in a branch named `week_3`.\n",
        "3.  **Format:** You can submit your work as either a Jupyter Notebook (`.ipynb`) or a collection of Python scripts (`.py`).\n",
        "4.  After pushing, you should verify that your branch and files are visible on the GitLab web interface. No further action is needed. The trainers will review all submissions on the `week_3` branch after the deadline. Any assignments submitted after the deadline won't be reviewed and will reflect in your course score.\n",
        "5. The use of LLMs is encouraged, but ensure that you’re not copying solutions blindly. Always review, test, and understand any code generated, adapting it to the specific requirements of your assignment. Your submission should demonstrate your own comprehension, problem-solving process, and coding style, not just an unedited output from an AI tool."
      ],
      "metadata": {
        "id": "NraGy9wtq-9M"
      }
    },
    {
      "cell_type": "markdown",
      "source": [
        "### Part 1 - Setup"
      ],
      "metadata": {
        "id": "AG9enWw-TJmg"
      }
    },
    {
      "cell_type": "code",
      "source": [
        "# Install the required (1.37.0) versions to satisfy existing dependencies\n",
        "!pip install -q opentelemetry-api==1.37.0 opentelemetry-sdk==1.37.0 opentelemetry-proto==1.37.0 opentelemetry-exporter-otlp-proto-common==1.37.0 opentelemetry-exporter-otlp-proto-grpc==1.37.0"
      ],
      "metadata": {
        "id": "LBSOFdWKX3Yi"
      },
      "execution_count": 8,
      "outputs": []
    },
    {
      "cell_type": "code",
      "source": [
        "!pip install -q -U google-generativeai langchain-google-genai langchain chromadb sentence-transformers"
      ],
      "metadata": {
        "id": "9bp484k7KeUj"
      },
      "execution_count": 9,
      "outputs": []
    },
    {
      "cell_type": "code",
      "source": [
        "import google.generativeai as genai\n",
        "from langchain_google_genai import ChatGoogleGenerativeAI\n",
        "from google.colab import userdata\n",
        "\n",
        "# Configure the API key\n",
        "api_key = userdata.get('GEMINI_API_KEY')\n",
        "genai.configure(api_key=api_key)\n",
        "\n",
        "# Instantiate the Gemini model\n",
        "llm = ChatGoogleGenerativeAI(model=\"gemini-2.5-flash\")\n",
        "\n",
        "print(\"✅ Gemini model configured successfully!\")"
      ],
      "metadata": {
        "id": "2MjtsmquKh2h",
        "outputId": "90ff71f1-b6d4-4255-d455-0711c7f8c87b",
        "colab": {
          "base_uri": "https://localhost:8080/"
        }
      },
      "execution_count": 11,
      "outputs": [
        {
          "output_type": "stream",
          "name": "stdout",
          "text": [
            "✅ Gemini model configured successfully!\n"
          ]
        }
      ]
    },
    {
      "cell_type": "markdown",
      "source": [
        "### Part 2 - Building the Baseline RAG System"
      ],
      "metadata": {
        "id": "InHDjX6ZKlig"
      }
    },
    {
      "cell_type": "markdown",
      "source": [
        "##### Document Loading"
      ],
      "metadata": {
        "id": "3gsthTizMZKx"
      }
    },
    {
      "cell_type": "code",
      "source": [
        "file_path = \"/content/sample_data/msft-10K-data.txt\"\n",
        "\n",
        "with open(file_path, \"r\", encoding=\"utf-8\") as f:\n",
        "    text_data = f.read()\n",
        "\n",
        "print(\"✅ Microsoft 10-K file loaded successfully!\")\n",
        "print(f\"Total characters in document: {len(text_data)}\\n\")"
      ],
      "metadata": {
        "id": "53pnN5LiMKJB",
        "outputId": "fa5ee2e3-efc9-40be-aa31-cddbda6807a6",
        "colab": {
          "base_uri": "https://localhost:8080/"
        }
      },
      "execution_count": 12,
      "outputs": [
        {
          "output_type": "stream",
          "name": "stdout",
          "text": [
            "✅ Microsoft 10-K file loaded successfully!\n",
            "Total characters in document: 392586\n",
            "\n"
          ]
        }
      ]
    },
    {
      "cell_type": "markdown",
      "source": [
        "##### Chunking"
      ],
      "metadata": {
        "id": "A36NrnbYMckl"
      }
    },
    {
      "cell_type": "code",
      "source": [
        "from langchain.text_splitter import RecursiveCharacterTextSplitter\n",
        "\n",
        "chunk_size = 1200\n",
        "chunk_overlap = 200\n",
        "\n",
        "text_splitter = RecursiveCharacterTextSplitter(\n",
        "    chunk_size=chunk_size,\n",
        "    chunk_overlap=chunk_overlap,\n",
        "    separators=[\"\\n\\n\", \"\\n\", \" \", \"\"]\n",
        ")\n",
        "\n",
        "texts = text_splitter.split_text(text_data)\n",
        "print(f\"✅ Total chunks created: {len(texts)}\")"
      ],
      "metadata": {
        "id": "yUtz6u3fMfdq",
        "outputId": "75f695db-3f46-4410-838d-13a1e10826e6",
        "colab": {
          "base_uri": "https://localhost:8080/"
        }
      },
      "execution_count": 13,
      "outputs": [
        {
          "output_type": "stream",
          "name": "stdout",
          "text": [
            "✅ Total chunks created: 443\n"
          ]
        }
      ]
    },
    {
      "cell_type": "markdown",
      "source": [
        "##### Vector Store"
      ],
      "metadata": {
        "id": "uPdGg5UQMjjJ"
      }
    },
    {
      "cell_type": "code",
      "source": [
        "from langchain.embeddings import SentenceTransformerEmbeddings\n",
        "from langchain_community.vectorstores import Chroma\n",
        "\n",
        "embed_model_name = \"sentence-transformers/all-MiniLM-L6-v2\"\n",
        "embedding_function = SentenceTransformerEmbeddings(model_name=embed_model_name)\n",
        "\n",
        "persist_directory = \"./msft_chroma_store\"\n",
        "\n",
        "vectordb = Chroma.from_texts(\n",
        "    texts=texts,\n",
        "    embedding=embedding_function,\n",
        "    persist_directory=persist_directory\n",
        ")\n",
        "vectordb.persist()\n",
        "\n",
        "print(\"✅ Embeddings created and stored in ChromaDB.\\n\")"
      ],
      "metadata": {
        "id": "e2umItYjMoD8",
        "outputId": "3ef73b0e-144b-449e-a09a-e3f97e595cd5",
        "colab": {
          "base_uri": "https://localhost:8080/",
          "height": 581
        }
      },
      "execution_count": 14,
      "outputs": [
        {
          "output_type": "error",
          "ename": "ModuleNotFoundError",
          "evalue": "Module langchain_community.embeddings not found. Please install langchain-community to access this module. You can install it using `pip install -U langchain-community`",
          "traceback": [
            "\u001b[0;31m---------------------------------------------------------------------------\u001b[0m",
            "\u001b[0;31mModuleNotFoundError\u001b[0m                       Traceback (most recent call last)",
            "\u001b[0;32m/usr/local/lib/python3.12/dist-packages/langchain/_api/module_import.py\u001b[0m in \u001b[0;36mimport_by_name\u001b[0;34m(name)\u001b[0m\n\u001b[1;32m     69\u001b[0m             \u001b[0;32mtry\u001b[0m\u001b[0;34m:\u001b[0m\u001b[0;34m\u001b[0m\u001b[0;34m\u001b[0m\u001b[0m\n\u001b[0;32m---> 70\u001b[0;31m                 \u001b[0mmodule\u001b[0m \u001b[0;34m=\u001b[0m \u001b[0mimportlib\u001b[0m\u001b[0;34m.\u001b[0m\u001b[0mimport_module\u001b[0m\u001b[0;34m(\u001b[0m\u001b[0mnew_module\u001b[0m\u001b[0;34m)\u001b[0m\u001b[0;34m\u001b[0m\u001b[0;34m\u001b[0m\u001b[0m\n\u001b[0m\u001b[1;32m     71\u001b[0m             \u001b[0;32mexcept\u001b[0m \u001b[0mModuleNotFoundError\u001b[0m \u001b[0;32mas\u001b[0m \u001b[0me\u001b[0m\u001b[0;34m:\u001b[0m\u001b[0;34m\u001b[0m\u001b[0;34m\u001b[0m\u001b[0m\n",
            "\u001b[0;32m/usr/lib/python3.12/importlib/__init__.py\u001b[0m in \u001b[0;36mimport_module\u001b[0;34m(name, package)\u001b[0m\n\u001b[1;32m     89\u001b[0m             \u001b[0mlevel\u001b[0m \u001b[0;34m+=\u001b[0m \u001b[0;36m1\u001b[0m\u001b[0;34m\u001b[0m\u001b[0;34m\u001b[0m\u001b[0m\n\u001b[0;32m---> 90\u001b[0;31m     \u001b[0;32mreturn\u001b[0m \u001b[0m_bootstrap\u001b[0m\u001b[0;34m.\u001b[0m\u001b[0m_gcd_import\u001b[0m\u001b[0;34m(\u001b[0m\u001b[0mname\u001b[0m\u001b[0;34m[\u001b[0m\u001b[0mlevel\u001b[0m\u001b[0;34m:\u001b[0m\u001b[0;34m]\u001b[0m\u001b[0;34m,\u001b[0m \u001b[0mpackage\u001b[0m\u001b[0;34m,\u001b[0m \u001b[0mlevel\u001b[0m\u001b[0;34m)\u001b[0m\u001b[0;34m\u001b[0m\u001b[0;34m\u001b[0m\u001b[0m\n\u001b[0m\u001b[1;32m     91\u001b[0m \u001b[0;34m\u001b[0m\u001b[0m\n",
            "\u001b[0;32m/usr/lib/python3.12/importlib/_bootstrap.py\u001b[0m in \u001b[0;36m_gcd_import\u001b[0;34m(name, package, level)\u001b[0m\n",
            "\u001b[0;32m/usr/lib/python3.12/importlib/_bootstrap.py\u001b[0m in \u001b[0;36m_find_and_load\u001b[0;34m(name, import_)\u001b[0m\n",
            "\u001b[0;32m/usr/lib/python3.12/importlib/_bootstrap.py\u001b[0m in \u001b[0;36m_find_and_load_unlocked\u001b[0;34m(name, import_)\u001b[0m\n",
            "\u001b[0;32m/usr/lib/python3.12/importlib/_bootstrap.py\u001b[0m in \u001b[0;36m_call_with_frames_removed\u001b[0;34m(f, *args, **kwds)\u001b[0m\n",
            "\u001b[0;32m/usr/lib/python3.12/importlib/_bootstrap.py\u001b[0m in \u001b[0;36m_gcd_import\u001b[0;34m(name, package, level)\u001b[0m\n",
            "\u001b[0;32m/usr/lib/python3.12/importlib/_bootstrap.py\u001b[0m in \u001b[0;36m_find_and_load\u001b[0;34m(name, import_)\u001b[0m\n",
            "\u001b[0;32m/usr/lib/python3.12/importlib/_bootstrap.py\u001b[0m in \u001b[0;36m_find_and_load_unlocked\u001b[0;34m(name, import_)\u001b[0m\n",
            "\u001b[0;31mModuleNotFoundError\u001b[0m: No module named 'langchain_community'",
            "\nThe above exception was the direct cause of the following exception:\n",
            "\u001b[0;31mModuleNotFoundError\u001b[0m                       Traceback (most recent call last)",
            "\u001b[0;32m/tmp/ipython-input-3735851001.py\u001b[0m in \u001b[0;36m<cell line: 0>\u001b[0;34m()\u001b[0m\n\u001b[0;32m----> 1\u001b[0;31m \u001b[0;32mfrom\u001b[0m \u001b[0mlangchain\u001b[0m\u001b[0;34m.\u001b[0m\u001b[0membeddings\u001b[0m \u001b[0;32mimport\u001b[0m \u001b[0mSentenceTransformerEmbeddings\u001b[0m\u001b[0;34m\u001b[0m\u001b[0;34m\u001b[0m\u001b[0m\n\u001b[0m\u001b[1;32m      2\u001b[0m \u001b[0;32mfrom\u001b[0m \u001b[0mlangchain_community\u001b[0m\u001b[0;34m.\u001b[0m\u001b[0mvectorstores\u001b[0m \u001b[0;32mimport\u001b[0m \u001b[0mChroma\u001b[0m\u001b[0;34m\u001b[0m\u001b[0;34m\u001b[0m\u001b[0m\n\u001b[1;32m      3\u001b[0m \u001b[0;34m\u001b[0m\u001b[0m\n\u001b[1;32m      4\u001b[0m \u001b[0membed_model_name\u001b[0m \u001b[0;34m=\u001b[0m \u001b[0;34m\"sentence-transformers/all-MiniLM-L6-v2\"\u001b[0m\u001b[0;34m\u001b[0m\u001b[0;34m\u001b[0m\u001b[0m\n\u001b[1;32m      5\u001b[0m \u001b[0membedding_function\u001b[0m \u001b[0;34m=\u001b[0m \u001b[0mSentenceTransformerEmbeddings\u001b[0m\u001b[0;34m(\u001b[0m\u001b[0mmodel_name\u001b[0m\u001b[0;34m=\u001b[0m\u001b[0membed_model_name\u001b[0m\u001b[0;34m)\u001b[0m\u001b[0;34m\u001b[0m\u001b[0;34m\u001b[0m\u001b[0m\n",
            "\u001b[0;32m/usr/local/lib/python3.12/dist-packages/langchain/embeddings/__init__.py\u001b[0m in \u001b[0;36m__getattr__\u001b[0;34m(name)\u001b[0m\n\u001b[1;32m    165\u001b[0m \u001b[0;32mdef\u001b[0m \u001b[0m__getattr__\u001b[0m\u001b[0;34m(\u001b[0m\u001b[0mname\u001b[0m\u001b[0;34m:\u001b[0m \u001b[0mstr\u001b[0m\u001b[0;34m)\u001b[0m \u001b[0;34m->\u001b[0m \u001b[0mAny\u001b[0m\u001b[0;34m:\u001b[0m\u001b[0;34m\u001b[0m\u001b[0;34m\u001b[0m\u001b[0m\n\u001b[1;32m    166\u001b[0m     \u001b[0;34m\"\"\"Look up attributes dynamically.\"\"\"\u001b[0m\u001b[0;34m\u001b[0m\u001b[0;34m\u001b[0m\u001b[0m\n\u001b[0;32m--> 167\u001b[0;31m     \u001b[0;32mreturn\u001b[0m \u001b[0m_import_attribute\u001b[0m\u001b[0;34m(\u001b[0m\u001b[0mname\u001b[0m\u001b[0;34m)\u001b[0m\u001b[0;34m\u001b[0m\u001b[0;34m\u001b[0m\u001b[0m\n\u001b[0m\u001b[1;32m    168\u001b[0m \u001b[0;34m\u001b[0m\u001b[0m\n\u001b[1;32m    169\u001b[0m \u001b[0;34m\u001b[0m\u001b[0m\n",
            "\u001b[0;32m/usr/local/lib/python3.12/dist-packages/langchain/_api/module_import.py\u001b[0m in \u001b[0;36mimport_by_name\u001b[0;34m(name)\u001b[0m\n\u001b[1;32m     76\u001b[0m                         \u001b[0;34m\"You can install it using `pip install -U langchain-community`\"\u001b[0m\u001b[0;34m\u001b[0m\u001b[0;34m\u001b[0m\u001b[0m\n\u001b[1;32m     77\u001b[0m                     )\n\u001b[0;32m---> 78\u001b[0;31m                     \u001b[0;32mraise\u001b[0m \u001b[0mModuleNotFoundError\u001b[0m\u001b[0;34m(\u001b[0m\u001b[0mmsg\u001b[0m\u001b[0;34m)\u001b[0m \u001b[0;32mfrom\u001b[0m \u001b[0me\u001b[0m\u001b[0;34m\u001b[0m\u001b[0;34m\u001b[0m\u001b[0m\n\u001b[0m\u001b[1;32m     79\u001b[0m                 \u001b[0;32mraise\u001b[0m\u001b[0;34m\u001b[0m\u001b[0;34m\u001b[0m\u001b[0m\n\u001b[1;32m     80\u001b[0m \u001b[0;34m\u001b[0m\u001b[0m\n",
            "\u001b[0;31mModuleNotFoundError\u001b[0m: Module langchain_community.embeddings not found. Please install langchain-community to access this module. You can install it using `pip install -U langchain-community`",
            "",
            "\u001b[0;31m---------------------------------------------------------------------------\u001b[0;32m\nNOTE: If your import is failing due to a missing package, you can\nmanually install dependencies using either !pip or !apt.\n\nTo view examples of installing some common dependencies, click the\n\"Open Examples\" button below.\n\u001b[0;31m---------------------------------------------------------------------------\u001b[0m\n"
          ],
          "errorDetails": {
            "actions": [
              {
                "action": "open_url",
                "actionText": "Open Examples",
                "url": "/notebooks/snippets/importing_libraries.ipynb"
              }
            ]
          }
        }
      ]
    },
    {
      "cell_type": "markdown",
      "source": [
        "##### QA Chain"
      ],
      "metadata": {
        "id": "snBFIK_0PBTW"
      }
    },
    {
      "cell_type": "code",
      "source": [
        "from langchain.chains.combine_documents import create_stuff_documents_chain\n",
        "from langchain_core.prompts import ChatPromptTemplate\n",
        "from langchain.chains import create_retrieval_chain\n",
        "\n",
        "retriever = vectordb.as_retriever(search_type=\"similarity\", search_kwargs={\"k\": 4})\n",
        "\n",
        "prompt = ChatPromptTemplate.from_messages([\n",
        "    (\"system\", \"Use the following context to answer the question:\\n\\n{context}\"),\n",
        "    (\"human\", \"{input}\")\n",
        "])\n",
        "\n",
        "document_chain = create_stuff_documents_chain(llm, prompt)\n",
        "\n",
        "qa_chain = create_retrieval_chain(retriever, document_chain)\n",
        "\n",
        "print(\"✅ QA chain ready!\\n\")"
      ],
      "metadata": {
        "id": "FuzVgFr9PD9m"
      },
      "execution_count": null,
      "outputs": []
    },
    {
      "cell_type": "markdown",
      "source": [
        "##### Initial Test"
      ],
      "metadata": {
        "id": "Kqz_LpjqPGKN"
      }
    },
    {
      "cell_type": "code",
      "source": [
        "query = \"What were the company's total revenues for the fiscal year that ended on June 30, 2022?\"\n",
        "\n",
        "result = qa_chain({\"query\": query})\n",
        "\n",
        "# Display the answer\n",
        "print(\"=== 💬 MODEL ANSWER ===\")\n",
        "print(result[\"result\"])\n",
        "print(\"\\n\")\n",
        "\n",
        "# Show the source snippets used by the model\n",
        "print(\"=== 📄 SOURCE DOCUMENTS ===\")\n",
        "for i, doc in enumerate(result[\"source_documents\"], 1):\n",
        "    print(f\"\\n--- Source {i} ---\")\n",
        "    snippet = doc.page_content[:400].replace(\"\\n\", \" \")\n",
        "    print(snippet + \" ...\")"
      ],
      "metadata": {
        "id": "rydGmEw-PJfL"
      },
      "execution_count": null,
      "outputs": []
    },
    {
      "cell_type": "markdown",
      "source": [
        "Evaluating the Baseline"
      ],
      "metadata": {
        "id": "DUADc8S-R4sV"
      }
    }
  ]
}